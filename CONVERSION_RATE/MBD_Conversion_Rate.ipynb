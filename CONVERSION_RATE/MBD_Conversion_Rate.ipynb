{
 "cells": [
  {
   "attachments": {},
   "cell_type": "markdown",
   "metadata": {},
   "source": [
    "# Import libraries"
   ]
  },
  {
   "cell_type": "code",
   "execution_count": 26,
   "metadata": {},
   "outputs": [],
   "source": [
    "import pandas as pd\n",
    "import numpy as np\n",
    "\n",
    "from sklearn.model_selection import train_test_split\n",
    "from sklearn.preprocessing import OneHotEncoder, StandardScaler\n",
    "from sklearn.compose import ColumnTransformer\n",
    "from sklearn.linear_model import LogisticRegression\n",
    "from sklearn.tree import DecisionTreeClassifier\n",
    "from sklearn.ensemble import RandomForestClassifier\n",
    "from sklearn.model_selection import GridSearchCV\n",
    "from sklearn.metrics import f1_score, confusion_matrix\n",
    "\n",
    "import matplotlib.pyplot as plt\n",
    "import plotly.express as px\n",
    "import plotly.graph_objects as go\n",
    "import plotly.io as pio\n",
    "# setting Jedha color palette as default\n",
    "pio.templates[\"jedha\"] = go.layout.Template(\n",
    "    layout_colorway=[\"#4B9AC7\", \"#4BE8E0\", \"#9DD4F3\", \"#97FBF6\", \"#2A7FAF\", \"#23B1AB\", \"#0E3449\", \"#015955\"]\n",
    ")\n",
    "pio.templates.default = \"jedha\"\n",
    "pio.renderers.default = \"svg\" # to be replaced by \"iframe\" if working on JULIE\n",
    "from IPython.display import display"
   ]
  },
  {
   "attachments": {},
   "cell_type": "markdown",
   "metadata": {},
   "source": [
    "# Import train dataset"
   ]
  },
  {
   "cell_type": "code",
   "execution_count": 27,
   "metadata": {},
   "outputs": [
    {
     "name": "stdout",
     "output_type": "stream",
     "text": [
      "Nb rows / nb columns : (284580, 6)\n",
      "\n"
     ]
    },
    {
     "data": {
      "text/html": [
       "<div>\n",
       "<style scoped>\n",
       "    .dataframe tbody tr th:only-of-type {\n",
       "        vertical-align: middle;\n",
       "    }\n",
       "\n",
       "    .dataframe tbody tr th {\n",
       "        vertical-align: top;\n",
       "    }\n",
       "\n",
       "    .dataframe thead th {\n",
       "        text-align: right;\n",
       "    }\n",
       "</style>\n",
       "<table border=\"1\" class=\"dataframe\">\n",
       "  <thead>\n",
       "    <tr style=\"text-align: right;\">\n",
       "      <th></th>\n",
       "      <th>country</th>\n",
       "      <th>age</th>\n",
       "      <th>new_user</th>\n",
       "      <th>source</th>\n",
       "      <th>total_pages_visited</th>\n",
       "      <th>converted</th>\n",
       "    </tr>\n",
       "  </thead>\n",
       "  <tbody>\n",
       "    <tr>\n",
       "      <th>0</th>\n",
       "      <td>China</td>\n",
       "      <td>22</td>\n",
       "      <td>1</td>\n",
       "      <td>Direct</td>\n",
       "      <td>2</td>\n",
       "      <td>0</td>\n",
       "    </tr>\n",
       "    <tr>\n",
       "      <th>1</th>\n",
       "      <td>UK</td>\n",
       "      <td>21</td>\n",
       "      <td>1</td>\n",
       "      <td>Ads</td>\n",
       "      <td>3</td>\n",
       "      <td>0</td>\n",
       "    </tr>\n",
       "    <tr>\n",
       "      <th>2</th>\n",
       "      <td>Germany</td>\n",
       "      <td>20</td>\n",
       "      <td>0</td>\n",
       "      <td>Seo</td>\n",
       "      <td>14</td>\n",
       "      <td>1</td>\n",
       "    </tr>\n",
       "    <tr>\n",
       "      <th>3</th>\n",
       "      <td>US</td>\n",
       "      <td>23</td>\n",
       "      <td>1</td>\n",
       "      <td>Seo</td>\n",
       "      <td>3</td>\n",
       "      <td>0</td>\n",
       "    </tr>\n",
       "    <tr>\n",
       "      <th>4</th>\n",
       "      <td>US</td>\n",
       "      <td>28</td>\n",
       "      <td>1</td>\n",
       "      <td>Direct</td>\n",
       "      <td>3</td>\n",
       "      <td>0</td>\n",
       "    </tr>\n",
       "  </tbody>\n",
       "</table>\n",
       "</div>"
      ],
      "text/plain": [
       "   country  age  new_user  source  total_pages_visited  converted\n",
       "0    China   22         1  Direct                    2          0\n",
       "1       UK   21         1     Ads                    3          0\n",
       "2  Germany   20         0     Seo                   14          1\n",
       "3       US   23         1     Seo                    3          0\n",
       "4       US   28         1  Direct                    3          0"
      ]
     },
     "execution_count": 27,
     "metadata": {},
     "output_type": "execute_result"
    }
   ],
   "source": [
    "df = pd.read_csv(\"src/conversion_data_train.csv\")\n",
    "\n",
    "print(\"Nb rows / nb columns :\", df.shape)\n",
    "print(\"\")\n",
    "df.head()"
   ]
  },
  {
   "attachments": {},
   "cell_type": "markdown",
   "metadata": {},
   "source": [
    "# EDA"
   ]
  },
  {
   "cell_type": "code",
   "execution_count": 28,
   "metadata": {},
   "outputs": [
    {
     "data": {
      "text/html": [
       "<div>\n",
       "<style scoped>\n",
       "    .dataframe tbody tr th:only-of-type {\n",
       "        vertical-align: middle;\n",
       "    }\n",
       "\n",
       "    .dataframe tbody tr th {\n",
       "        vertical-align: top;\n",
       "    }\n",
       "\n",
       "    .dataframe thead th {\n",
       "        text-align: right;\n",
       "    }\n",
       "</style>\n",
       "<table border=\"1\" class=\"dataframe\">\n",
       "  <thead>\n",
       "    <tr style=\"text-align: right;\">\n",
       "      <th></th>\n",
       "      <th>country</th>\n",
       "      <th>age</th>\n",
       "      <th>new_user</th>\n",
       "      <th>source</th>\n",
       "      <th>total_pages_visited</th>\n",
       "      <th>converted</th>\n",
       "    </tr>\n",
       "  </thead>\n",
       "  <tbody>\n",
       "    <tr>\n",
       "      <th>count</th>\n",
       "      <td>284580</td>\n",
       "      <td>284580.000000</td>\n",
       "      <td>284580.000000</td>\n",
       "      <td>284580</td>\n",
       "      <td>284580.000000</td>\n",
       "      <td>284580.000000</td>\n",
       "    </tr>\n",
       "    <tr>\n",
       "      <th>unique</th>\n",
       "      <td>4</td>\n",
       "      <td>NaN</td>\n",
       "      <td>NaN</td>\n",
       "      <td>3</td>\n",
       "      <td>NaN</td>\n",
       "      <td>NaN</td>\n",
       "    </tr>\n",
       "    <tr>\n",
       "      <th>top</th>\n",
       "      <td>US</td>\n",
       "      <td>NaN</td>\n",
       "      <td>NaN</td>\n",
       "      <td>Seo</td>\n",
       "      <td>NaN</td>\n",
       "      <td>NaN</td>\n",
       "    </tr>\n",
       "    <tr>\n",
       "      <th>freq</th>\n",
       "      <td>160124</td>\n",
       "      <td>NaN</td>\n",
       "      <td>NaN</td>\n",
       "      <td>139477</td>\n",
       "      <td>NaN</td>\n",
       "      <td>NaN</td>\n",
       "    </tr>\n",
       "    <tr>\n",
       "      <th>mean</th>\n",
       "      <td>NaN</td>\n",
       "      <td>30.564203</td>\n",
       "      <td>0.685452</td>\n",
       "      <td>NaN</td>\n",
       "      <td>4.873252</td>\n",
       "      <td>0.032258</td>\n",
       "    </tr>\n",
       "    <tr>\n",
       "      <th>std</th>\n",
       "      <td>NaN</td>\n",
       "      <td>8.266789</td>\n",
       "      <td>0.464336</td>\n",
       "      <td>NaN</td>\n",
       "      <td>3.341995</td>\n",
       "      <td>0.176685</td>\n",
       "    </tr>\n",
       "    <tr>\n",
       "      <th>min</th>\n",
       "      <td>NaN</td>\n",
       "      <td>17.000000</td>\n",
       "      <td>0.000000</td>\n",
       "      <td>NaN</td>\n",
       "      <td>1.000000</td>\n",
       "      <td>0.000000</td>\n",
       "    </tr>\n",
       "    <tr>\n",
       "      <th>25%</th>\n",
       "      <td>NaN</td>\n",
       "      <td>24.000000</td>\n",
       "      <td>0.000000</td>\n",
       "      <td>NaN</td>\n",
       "      <td>2.000000</td>\n",
       "      <td>0.000000</td>\n",
       "    </tr>\n",
       "    <tr>\n",
       "      <th>50%</th>\n",
       "      <td>NaN</td>\n",
       "      <td>30.000000</td>\n",
       "      <td>1.000000</td>\n",
       "      <td>NaN</td>\n",
       "      <td>4.000000</td>\n",
       "      <td>0.000000</td>\n",
       "    </tr>\n",
       "    <tr>\n",
       "      <th>75%</th>\n",
       "      <td>NaN</td>\n",
       "      <td>36.000000</td>\n",
       "      <td>1.000000</td>\n",
       "      <td>NaN</td>\n",
       "      <td>7.000000</td>\n",
       "      <td>0.000000</td>\n",
       "    </tr>\n",
       "    <tr>\n",
       "      <th>max</th>\n",
       "      <td>NaN</td>\n",
       "      <td>123.000000</td>\n",
       "      <td>1.000000</td>\n",
       "      <td>NaN</td>\n",
       "      <td>29.000000</td>\n",
       "      <td>1.000000</td>\n",
       "    </tr>\n",
       "  </tbody>\n",
       "</table>\n",
       "</div>"
      ],
      "text/plain": [
       "       country            age       new_user  source  total_pages_visited  \\\n",
       "count   284580  284580.000000  284580.000000  284580        284580.000000   \n",
       "unique       4            NaN            NaN       3                  NaN   \n",
       "top         US            NaN            NaN     Seo                  NaN   \n",
       "freq    160124            NaN            NaN  139477                  NaN   \n",
       "mean       NaN      30.564203       0.685452     NaN             4.873252   \n",
       "std        NaN       8.266789       0.464336     NaN             3.341995   \n",
       "min        NaN      17.000000       0.000000     NaN             1.000000   \n",
       "25%        NaN      24.000000       0.000000     NaN             2.000000   \n",
       "50%        NaN      30.000000       1.000000     NaN             4.000000   \n",
       "75%        NaN      36.000000       1.000000     NaN             7.000000   \n",
       "max        NaN     123.000000       1.000000     NaN            29.000000   \n",
       "\n",
       "            converted  \n",
       "count   284580.000000  \n",
       "unique            NaN  \n",
       "top               NaN  \n",
       "freq              NaN  \n",
       "mean         0.032258  \n",
       "std          0.176685  \n",
       "min          0.000000  \n",
       "25%          0.000000  \n",
       "50%          0.000000  \n",
       "75%          0.000000  \n",
       "max          1.000000  "
      ]
     },
     "execution_count": 28,
     "metadata": {},
     "output_type": "execute_result"
    }
   ],
   "source": [
    "# Check basic statistics\n",
    "df.describe(include=\"all\")"
   ]
  },
  {
   "attachments": {},
   "cell_type": "markdown",
   "metadata": {},
   "source": [
    "We can see that the maximum value for the age looks too high for the reality, there might be outliers into this variable.\n",
    "\n",
    "As well, we see that the mean of the target value is very low, that means the most represented class is 0."
   ]
  },
  {
   "cell_type": "code",
   "execution_count": 29,
   "metadata": {},
   "outputs": [
    {
     "name": "stdout",
     "output_type": "stream",
     "text": [
      "Percentage of missing values: \n"
     ]
    },
    {
     "data": {
      "text/plain": [
       "country                0.0\n",
       "age                    0.0\n",
       "new_user               0.0\n",
       "source                 0.0\n",
       "total_pages_visited    0.0\n",
       "converted              0.0\n",
       "dtype: float64"
      ]
     },
     "metadata": {},
     "output_type": "display_data"
    }
   ],
   "source": [
    "# Check if there are missing values\n",
    "print(\"Percentage of missing values: \")\n",
    "display(100*df.isnull().sum()/df.shape[0])"
   ]
  },
  {
   "cell_type": "code",
   "execution_count": 30,
   "metadata": {},
   "outputs": [
    {
     "name": "stdout",
     "output_type": "stream",
     "text": [
      "Dropping outliers in Age...\n",
      "Done. Number of lines remaining :  284578\n",
      "\n"
     ]
    }
   ],
   "source": [
    "# Drop lines containing outliers\n",
    "print('Dropping outliers in Age...')\n",
    "to_keep = (df['age'] < 100) \n",
    "df = df.loc[to_keep,:] \n",
    "print('Done. Number of lines remaining : ', df.shape[0])\n",
    "print()"
   ]
  },
  {
   "cell_type": "code",
   "execution_count": 31,
   "metadata": {},
   "outputs": [
    {
     "data": {
      "text/plain": [
       "79"
      ]
     },
     "execution_count": 31,
     "metadata": {},
     "output_type": "execute_result"
    }
   ],
   "source": [
    "# Checking the new maximum\n",
    "np.max(df['age'])"
   ]
  },
  {
   "attachments": {},
   "cell_type": "markdown",
   "metadata": {},
   "source": [
    "The new maximum seeems now correct."
   ]
  },
  {
   "cell_type": "code",
   "execution_count": 7,
   "metadata": {},
   "outputs": [
    {
     "data": {
      "image/png": "[encoded data removed]",
      "text/plain": [
       "<Figure size 640x480 with 2 Axes>"
      ]
     },
     "metadata": {},
     "output_type": "display_data"
    }
   ],
   "source": [
    "# Display the correlation heatmap\n",
    "import seaborn as sns\n",
    "\n",
    "sns.heatmap(df.corr(), cmap='RdBu', center=0)\n",
    "plt.show()"
   ]
  },
  {
   "attachments": {},
   "cell_type": "markdown",
   "metadata": {},
   "source": [
    "Only total_pages_visited numeric variable seems to be correlated with our target, so we will only keep this one."
   ]
  },
  {
   "attachments": {},
   "cell_type": "markdown",
   "metadata": {},
   "source": [
    "# Separating labels from features"
   ]
  },
  {
   "cell_type": "code",
   "execution_count": 32,
   "metadata": {},
   "outputs": [
    {
     "name": "stdout",
     "output_type": "stream",
     "text": [
      "...Done.\n",
      "\n",
      "Y : \n",
      "0    0\n",
      "1    0\n",
      "2    1\n",
      "3    0\n",
      "4    0\n",
      "Name: converted, dtype: int64\n",
      "\n",
      "X :\n",
      "   country  source  total_pages_visited\n",
      "0    China  Direct                    2\n",
      "1       UK     Ads                    3\n",
      "2  Germany     Seo                   14\n",
      "3       US     Seo                    3\n",
      "4       US  Direct                    3\n"
     ]
    }
   ],
   "source": [
    "# Separate target variable Y from features X\n",
    "features_list = ['country', 'source', 'total_pages_visited']\n",
    "target_variable = 'converted'\n",
    "\n",
    "X = df.loc[:,features_list]\n",
    "Y = df.loc[:,target_variable]\n",
    "\n",
    "print(\"...Done.\")\n",
    "print()\n",
    "\n",
    "print('Y : ')\n",
    "print(Y.head())\n",
    "print()\n",
    "print('X :')\n",
    "print(X.head())"
   ]
  },
  {
   "attachments": {},
   "cell_type": "markdown",
   "metadata": {},
   "source": [
    "### Features engineering"
   ]
  },
  {
   "cell_type": "code",
   "execution_count": 35,
   "metadata": {},
   "outputs": [
    {
     "data": {
      "text/html": [
       "<div>\n",
       "<style scoped>\n",
       "    .dataframe tbody tr th:only-of-type {\n",
       "        vertical-align: middle;\n",
       "    }\n",
       "\n",
       "    .dataframe tbody tr th {\n",
       "        vertical-align: top;\n",
       "    }\n",
       "\n",
       "    .dataframe thead th {\n",
       "        text-align: right;\n",
       "    }\n",
       "</style>\n",
       "<table border=\"1\" class=\"dataframe\">\n",
       "  <thead>\n",
       "    <tr style=\"text-align: right;\">\n",
       "      <th></th>\n",
       "      <th>country</th>\n",
       "      <th>source</th>\n",
       "      <th>total_pages_visited</th>\n",
       "      <th>total_pages_visited_2</th>\n",
       "      <th>total_pages_visited_3</th>\n",
       "      <th>total_pages_visited_4</th>\n",
       "      <th>total_pages_visited_inv</th>\n",
       "      <th>total_pages_visited_inv2</th>\n",
       "    </tr>\n",
       "  </thead>\n",
       "  <tbody>\n",
       "    <tr>\n",
       "      <th>0</th>\n",
       "      <td>China</td>\n",
       "      <td>Direct</td>\n",
       "      <td>2</td>\n",
       "      <td>4</td>\n",
       "      <td>8</td>\n",
       "      <td>16</td>\n",
       "      <td>0.500000</td>\n",
       "      <td>0.250000</td>\n",
       "    </tr>\n",
       "    <tr>\n",
       "      <th>1</th>\n",
       "      <td>UK</td>\n",
       "      <td>Ads</td>\n",
       "      <td>3</td>\n",
       "      <td>9</td>\n",
       "      <td>27</td>\n",
       "      <td>81</td>\n",
       "      <td>0.333333</td>\n",
       "      <td>0.111111</td>\n",
       "    </tr>\n",
       "    <tr>\n",
       "      <th>2</th>\n",
       "      <td>Germany</td>\n",
       "      <td>Seo</td>\n",
       "      <td>14</td>\n",
       "      <td>196</td>\n",
       "      <td>2744</td>\n",
       "      <td>38416</td>\n",
       "      <td>0.071429</td>\n",
       "      <td>0.005102</td>\n",
       "    </tr>\n",
       "    <tr>\n",
       "      <th>3</th>\n",
       "      <td>US</td>\n",
       "      <td>Seo</td>\n",
       "      <td>3</td>\n",
       "      <td>9</td>\n",
       "      <td>27</td>\n",
       "      <td>81</td>\n",
       "      <td>0.333333</td>\n",
       "      <td>0.111111</td>\n",
       "    </tr>\n",
       "    <tr>\n",
       "      <th>4</th>\n",
       "      <td>US</td>\n",
       "      <td>Direct</td>\n",
       "      <td>3</td>\n",
       "      <td>9</td>\n",
       "      <td>27</td>\n",
       "      <td>81</td>\n",
       "      <td>0.333333</td>\n",
       "      <td>0.111111</td>\n",
       "    </tr>\n",
       "  </tbody>\n",
       "</table>\n",
       "</div>"
      ],
      "text/plain": [
       "   country  source  total_pages_visited  total_pages_visited_2  \\\n",
       "0    China  Direct                    2                      4   \n",
       "1       UK     Ads                    3                      9   \n",
       "2  Germany     Seo                   14                    196   \n",
       "3       US     Seo                    3                      9   \n",
       "4       US  Direct                    3                      9   \n",
       "\n",
       "   total_pages_visited_3  total_pages_visited_4  total_pages_visited_inv  \\\n",
       "0                      8                     16                 0.500000   \n",
       "1                     27                     81                 0.333333   \n",
       "2                   2744                  38416                 0.071429   \n",
       "3                     27                     81                 0.333333   \n",
       "4                     27                     81                 0.333333   \n",
       "\n",
       "   total_pages_visited_inv2  \n",
       "0                  0.250000  \n",
       "1                  0.111111  \n",
       "2                  0.005102  \n",
       "3                  0.111111  \n",
       "4                  0.111111  "
      ]
     },
     "execution_count": 35,
     "metadata": {},
     "output_type": "execute_result"
    }
   ],
   "source": [
    "X['total_pages_visited_2'] = X['total_pages_visited']**2\n",
    "X['total_pages_visited_3'] = X['total_pages_visited']**3\n",
    "X['total_pages_visited_4'] = X['total_pages_visited']**4\n",
    "X['total_pages_visited_inv'] = 1/X['total_pages_visited']\n",
    "X['total_pages_visited_inv2'] = 1/(X['total_pages_visited']**2)\n",
    "    \n",
    "X.head()"
   ]
  },
  {
   "cell_type": "code",
   "execution_count": 36,
   "metadata": {},
   "outputs": [
    {
     "name": "stdout",
     "output_type": "stream",
     "text": [
      "Dividing into train and test sets...\n",
      "...Done.\n",
      "\n"
     ]
    }
   ],
   "source": [
    "# Divide dataset Train set & Test set \n",
    "print(\"Dividing into train and test sets...\")\n",
    "X_train, X_test, Y_train, Y_test = train_test_split(X, Y, test_size=0.2, random_state=0, stratify=Y)\n",
    "print(\"...Done.\")\n",
    "print()"
   ]
  },
  {
   "attachments": {},
   "cell_type": "markdown",
   "metadata": {},
   "source": [
    "# Preprocessings"
   ]
  },
  {
   "cell_type": "code",
   "execution_count": 37,
   "metadata": {},
   "outputs": [],
   "source": [
    "# Create pipeline for numeric features\n",
    "numeric_features = ['total_pages_visited', 'total_pages_visited_2', 'total_pages_visited_3', 'total_pages_visited_4', 'total_pages_visited_inv', 'total_pages_visited_inv2']\n",
    "numeric_transformer = StandardScaler()"
   ]
  },
  {
   "cell_type": "code",
   "execution_count": 38,
   "metadata": {},
   "outputs": [],
   "source": [
    "# Create pipeline for categorical features\n",
    "categorical_features = ['country', 'source'] \n",
    "categorical_transformer = OneHotEncoder(drop='first')"
   ]
  },
  {
   "cell_type": "code",
   "execution_count": 39,
   "metadata": {},
   "outputs": [],
   "source": [
    "# Use ColumnTransformer to make a preprocessor object that describes all the treatments to be done\n",
    "preprocessor = ColumnTransformer(\n",
    "    transformers=[\n",
    "        ('num', numeric_transformer, numeric_features),\n",
    "        ('cat', categorical_transformer, categorical_features)\n",
    "    ])"
   ]
  },
  {
   "cell_type": "code",
   "execution_count": 40,
   "metadata": {},
   "outputs": [
    {
     "name": "stdout",
     "output_type": "stream",
     "text": [
      "Performing preprocessings on train set...\n",
      "...Done.\n",
      "[[ 0.0376251  -0.18892041 -0.23062196 -0.1937445  -0.51472098 -0.49630119\n",
      "   0.          0.          1.          1.          0.        ]\n",
      " [-0.2616379  -0.36024305 -0.29829271 -0.21505747 -0.33662232 -0.42540106\n",
      "   0.          0.          1.          0.          0.        ]\n",
      " [-0.86016391 -0.58867324 -0.36041669 -0.22891956  0.55387098  0.16543332\n",
      "   1.          0.          0.          0.          0.        ]\n",
      " [ 0.9354141   0.55347772  0.19869908  0.006736   -0.78186897 -0.57310966\n",
      "   0.          0.          1.          0.          1.        ]\n",
      " [-0.86016391 -0.58867324 -0.36041669 -0.22891956  0.55387098  0.16543332\n",
      "   0.          0.          1.          0.          1.        ]]\n",
      "\n",
      "Performing preprocessings on test set...\n",
      "...Done.\n",
      "[[-1.15942691 -0.64578079 -0.36818218 -0.22978594  2.33485759  2.52877083\n",
      "   0.          1.          0.          0.          0.        ]\n",
      " [ 0.0376251  -0.18892041 -0.23062196 -0.1937445  -0.51472098 -0.49630119\n",
      "   0.          1.          0.          0.          0.        ]\n",
      " [-1.15942691 -0.64578079 -0.36818218 -0.22978594  2.33485759  2.52877083\n",
      "   0.          0.          1.          0.          0.        ]\n",
      " [-1.15942691 -0.64578079 -0.36818218 -0.22978594  2.33485759  2.52877083\n",
      "   0.          0.          1.          1.          0.        ]\n",
      " [-0.56090091 -0.49349399 -0.33933891 -0.22516525 -0.03979122 -0.27222178\n",
      "   0.          0.          1.          1.          0.        ]]\n",
      "\n"
     ]
    }
   ],
   "source": [
    "# Preprocessings on train set\n",
    "print(\"Performing preprocessings on train set...\")\n",
    "X_train = preprocessor.fit_transform(X_train)\n",
    "print('...Done.')\n",
    "print(X_train[0:5])\n",
    "print()\n",
    "\n",
    "# Preprocessings on test set\n",
    "print(\"Performing preprocessings on test set...\")\n",
    "X_test = preprocessor.transform(X_test) \n",
    "print('...Done.')\n",
    "print(X_test[0:5,:]) \n",
    "print()\n",
    "\n",
    "# Remark : no preprocessing needed on the target variable because it already has binary values (0, 1)."
   ]
  },
  {
   "attachments": {},
   "cell_type": "markdown",
   "metadata": {},
   "source": [
    "# Train models and compute predictions"
   ]
  },
  {
   "cell_type": "code",
   "execution_count": 41,
   "metadata": {},
   "outputs": [
    {
     "name": "stdout",
     "output_type": "stream",
     "text": [
      "Train models...\n"
     ]
    },
    {
     "name": "stderr",
     "output_type": "stream",
     "text": [
      "c:\\Users\\morgane.berrod\\Anaconda3\\lib\\site-packages\\sklearn\\linear_model\\_logistic.py:814: ConvergenceWarning:\n",
      "\n",
      "lbfgs failed to converge (status=1):\n",
      "STOP: TOTAL NO. of ITERATIONS REACHED LIMIT.\n",
      "\n",
      "Increase the number of iterations (max_iter) or scale the data as shown in:\n",
      "    https://scikit-learn.org/stable/modules/preprocessing.html\n",
      "Please also refer to the documentation for alternative solver options:\n",
      "    https://scikit-learn.org/stable/modules/linear_model.html#logistic-regression\n",
      "\n"
     ]
    },
    {
     "name": "stdout",
     "output_type": "stream",
     "text": [
      "... logistic regression done.\n",
      "... decision tree done.\n",
      "... random forest done.\n"
     ]
    }
   ],
   "source": [
    "# Train models on training set\n",
    "# Here we have a classification problem\n",
    "\n",
    "print(\"Train models...\")\n",
    "\n",
    "logReg = LogisticRegression()\n",
    "decisionTree = DecisionTreeClassifier()\n",
    "randomForest = RandomForestClassifier()\n",
    "\n",
    "logReg.fit(X_train, Y_train)\n",
    "print(\"... logistic regression done.\")\n",
    "decisionTree.fit(X_train, Y_train)\n",
    "print(\"... decision tree done.\")\n",
    "randomForest.fit(X_train, Y_train)\n",
    "print(\"... random forest done.\")"
   ]
  },
  {
   "cell_type": "code",
   "execution_count": 42,
   "metadata": {},
   "outputs": [
    {
     "name": "stdout",
     "output_type": "stream",
     "text": [
      "Predictions on training set...\n",
      "... for logistic regression done.\n",
      "... for decision tree done.\n",
      "... for random forest done.\n"
     ]
    }
   ],
   "source": [
    "# Predictions on training set\n",
    "\n",
    "print(\"Predictions on training set...\")\n",
    "\n",
    "Y_train_pred_logReg = logReg.predict(X_train)\n",
    "print(\"... for logistic regression done.\")\n",
    "Y_train_pred_decisionTree = decisionTree.predict(X_train)\n",
    "print(\"... for decision tree done.\")\n",
    "Y_train_pred_randomForest = randomForest.predict(X_train)\n",
    "print(\"... for random forest done.\")"
   ]
  },
  {
   "cell_type": "code",
   "execution_count": 43,
   "metadata": {},
   "outputs": [
    {
     "name": "stdout",
     "output_type": "stream",
     "text": [
      "Predictions on test set...\n",
      "... for logistic regression done.\n",
      "... for decision tree done.\n",
      "... for random forest done.\n"
     ]
    }
   ],
   "source": [
    "# Predictions on test set\n",
    "\n",
    "print(\"Predictions on test set...\")\n",
    "\n",
    "Y_test_pred_logReg = logReg.predict(X_test)\n",
    "print(\"... for logistic regression done.\")\n",
    "Y_test_pred_decisionTree = decisionTree.predict(X_test)\n",
    "print(\"... for decision tree done.\")\n",
    "Y_test_pred_randomForest = randomForest.predict(X_test)\n",
    "print(\"... for random forest done.\")"
   ]
  },
  {
   "attachments": {},
   "cell_type": "markdown",
   "metadata": {},
   "source": [
    "# Scores"
   ]
  },
  {
   "cell_type": "code",
   "execution_count": 44,
   "metadata": {},
   "outputs": [
    {
     "name": "stdout",
     "output_type": "stream",
     "text": [
      "Logistic regression, f1-score on train set :  0.7187986305633364\n",
      "Logistic regression, f1-score on test set :  0.7100371747211897\n",
      "\n",
      "Decision tree, f1-score on train set :  0.7196893203883495\n",
      "Decision tree, f1-score on test set :  0.7099165894346617\n",
      "\n",
      "Random forest, f1-score on train set :  0.7206007586900983\n",
      "Random forest, f1-score on test set :  0.7108508014796546\n",
      "\n"
     ]
    }
   ],
   "source": [
    "print(\"Logistic regression, f1-score on train set : \", f1_score(Y_train, Y_train_pred_logReg))\n",
    "print(\"Logistic regression, f1-score on test set : \", f1_score(Y_test, Y_test_pred_logReg))\n",
    "print()\n",
    "print(\"Decision tree, f1-score on train set : \", f1_score(Y_train, Y_train_pred_decisionTree))\n",
    "print(\"Decision tree, f1-score on test set : \", f1_score(Y_test, Y_test_pred_decisionTree))\n",
    "print()\n",
    "print(\"Random forest, f1-score on train set : \", f1_score(Y_train, Y_train_pred_randomForest))\n",
    "print(\"Random forest, f1-score on test set : \", f1_score(Y_test, Y_test_pred_randomForest))"
   ]
  },
  {
   "attachments": {},
   "cell_type": "markdown",
   "metadata": {},
   "source": [
    "# Scores with cross-validation"
   ]
  },
  {
   "cell_type": "code",
   "execution_count": 45,
   "metadata": {},
   "outputs": [
    {
     "name": "stdout",
     "output_type": "stream",
     "text": [
      "10-fold cross-validation...\n",
      "\n"
     ]
    },
    {
     "name": "stderr",
     "output_type": "stream",
     "text": [
      "c:\\Users\\morgane.berrod\\Anaconda3\\lib\\site-packages\\sklearn\\linear_model\\_logistic.py:814: ConvergenceWarning:\n",
      "\n",
      "lbfgs failed to converge (status=1):\n",
      "STOP: TOTAL NO. of ITERATIONS REACHED LIMIT.\n",
      "\n",
      "Increase the number of iterations (max_iter) or scale the data as shown in:\n",
      "    https://scikit-learn.org/stable/modules/preprocessing.html\n",
      "Please also refer to the documentation for alternative solver options:\n",
      "    https://scikit-learn.org/stable/modules/linear_model.html#logistic-regression\n",
      "\n",
      "c:\\Users\\morgane.berrod\\Anaconda3\\lib\\site-packages\\sklearn\\linear_model\\_logistic.py:814: ConvergenceWarning:\n",
      "\n",
      "lbfgs failed to converge (status=1):\n",
      "STOP: TOTAL NO. of ITERATIONS REACHED LIMIT.\n",
      "\n",
      "Increase the number of iterations (max_iter) or scale the data as shown in:\n",
      "    https://scikit-learn.org/stable/modules/preprocessing.html\n",
      "Please also refer to the documentation for alternative solver options:\n",
      "    https://scikit-learn.org/stable/modules/linear_model.html#logistic-regression\n",
      "\n"
     ]
    },
    {
     "name": "stdout",
     "output_type": "stream",
     "text": [
      "The cross-validated F1 for Logistic regression is :  0.7187055803136423\n",
      "The cross-validated F1 for Logistic regression is :  0.7096599474488553\n",
      "\n",
      "The cross-validated F1 for Decsion Tree is :  0.7158568958771284\n",
      "The cross-validated F1 for Decsion Tree is :  0.6960212958621297\n",
      "\n",
      "The cross-validated F1 for Random Forest is :  0.717067629743801\n",
      "The cross-validated F1 for Random Forest is :  0.6978878990541353\n",
      "\n"
     ]
    }
   ],
   "source": [
    "from sklearn.model_selection import cross_val_score\n",
    "\n",
    "# Perform 5-fold cross-validation \n",
    "print(\"10-fold cross-validation...\")\n",
    "print()\n",
    "mean_score_logReg_train = cross_val_score(logReg, X_train, Y_train, scoring=\"f1\", cv=5)\n",
    "mean_score_logReg_test = cross_val_score(logReg, X_test, Y_test, scoring=\"f1\", cv=5)\n",
    "print('The cross-validated F1 for Logistic regression is : ', mean_score_logReg_train.mean())\n",
    "print('The cross-validated F1 for Logistic regression is : ', mean_score_logReg_test.mean())\n",
    "print()\n",
    "mean_score_decisionTree_train = cross_val_score(decisionTree, X_train, Y_train, scoring=\"f1\", cv=5)\n",
    "mean_score_decisionTree_test = cross_val_score(decisionTree, X_test, Y_test, scoring=\"f1\", cv=5)\n",
    "print('The cross-validated F1 for Decsion Tree is : ', mean_score_decisionTree_train.mean())\n",
    "print('The cross-validated F1 for Decsion Tree is : ', mean_score_decisionTree_test.mean())\n",
    "print()\n",
    "mean_score_randomForest_train = cross_val_score(randomForest, X_train, Y_train, scoring=\"f1\", cv=5)\n",
    "mean_score_randomForest_test= cross_val_score(randomForest, X_test, Y_test, scoring=\"f1\", cv=5)\n",
    "print('The cross-validated F1 for Random Forest is : ', mean_score_randomForest_train.mean())\n",
    "print('The cross-validated F1 for Random Forest is : ', mean_score_randomForest_test.mean())"
   ]
  },
  {
   "attachments": {},
   "cell_type": "markdown",
   "metadata": {},
   "source": [
    "# Grid Search with Logistic Regression"
   ]
  },
  {
   "cell_type": "code",
   "execution_count": 20,
   "metadata": {},
   "outputs": [
    {
     "name": "stderr",
     "output_type": "stream",
     "text": [
      "c:\\Users\\morgane.berrod\\Anaconda3\\lib\\site-packages\\sklearn\\model_selection\\_validation.py:372: FitFailedWarning:\n",
      "\n",
      "\n",
      "500 fits failed out of a total of 1000.\n",
      "The score on these train-test partitions for these parameters will be set to nan.\n",
      "If these failures are not expected, you can try to debug them by setting error_score='raise'.\n",
      "\n",
      "Below are more details about the failures:\n",
      "--------------------------------------------------------------------------------\n",
      "500 fits failed with the following error:\n",
      "Traceback (most recent call last):\n",
      "  File \"c:\\Users\\morgane.berrod\\Anaconda3\\lib\\site-packages\\sklearn\\model_selection\\_validation.py\", line 680, in _fit_and_score\n",
      "    estimator.fit(X_train, y_train, **fit_params)\n",
      "  File \"c:\\Users\\morgane.berrod\\Anaconda3\\lib\\site-packages\\sklearn\\linear_model\\_logistic.py\", line 1461, in fit\n",
      "    solver = _check_solver(self.solver, self.penalty, self.dual)\n",
      "  File \"c:\\Users\\morgane.berrod\\Anaconda3\\lib\\site-packages\\sklearn\\linear_model\\_logistic.py\", line 447, in _check_solver\n",
      "    raise ValueError(\n",
      "ValueError: Solver lbfgs supports only 'l2' or 'none' penalties, got l1 penalty.\n",
      "\n",
      "\n",
      "c:\\Users\\morgane.berrod\\Anaconda3\\lib\\site-packages\\sklearn\\model_selection\\_search.py:969: UserWarning:\n",
      "\n",
      "One or more of the test scores are non-finite: [       nan 0.97144012        nan 0.97505074        nan 0.97732604\n",
      "        nan 0.97996592        nan 0.97994835        nan 0.98222804\n",
      "        nan 0.98193814        nan 0.98195571        nan 0.98309775\n",
      "        nan 0.98344915        nan 0.98347111        nan 0.98349308\n",
      "        nan 0.98355896        nan 0.98378298        nan 0.98378298\n",
      "        nan 0.98380933        nan 0.98384008        nan 0.98409045\n",
      "        nan 0.98410363        nan 0.98409923        nan 0.98410802\n",
      "        nan 0.98411681        nan 0.98412559        nan 0.98412559\n",
      "        nan 0.98412559        nan 0.98412559        nan 0.98412559\n",
      "        nan 0.98412559        nan 0.98412559        nan 0.98412559\n",
      "        nan 0.98412559        nan 0.98412559        nan 0.98412559\n",
      "        nan 0.98412559        nan 0.98412559        nan 0.98412559\n",
      "        nan 0.98412559        nan 0.98412559        nan 0.98412559\n",
      "        nan 0.98412559        nan 0.98412559        nan 0.98412559\n",
      "        nan 0.98412559        nan 0.98412559        nan 0.98412559\n",
      "        nan 0.98412559        nan 0.98412559        nan 0.98412559\n",
      "        nan 0.98412559        nan 0.98412559]\n",
      "\n"
     ]
    },
    {
     "name": "stdout",
     "output_type": "stream",
     "text": [
      "...Done.\n",
      "Best hyperparameters :  {'C': 0.3906939937054613, 'penalty': 'l2'}\n"
     ]
    }
   ],
   "source": [
    "params = {'C' : np.logspace(-4, 4, 50),\n",
    "          'penalty' : ['l1', 'l2'] # l1 lasso, l2 ridge\n",
    "}  \n",
    "gridsearch_logReg = GridSearchCV(logReg, param_grid = params, cv = 10) \n",
    "gridsearch_logReg.fit(X_train, Y_train)\n",
    "print(\"...Done.\")\n",
    "print(\"Best hyperparameters : \", gridsearch_logReg.best_params_)"
   ]
  },
  {
   "cell_type": "code",
   "execution_count": 21,
   "metadata": {},
   "outputs": [
    {
     "name": "stdout",
     "output_type": "stream",
     "text": [
      "Predictions on training set...\n",
      "...Done.\n",
      "[0 0 0 ... 0 0 0]\n",
      "\n",
      "Predictions on test set...\n",
      "...Done.\n",
      "[0 0 0 ... 0 0 0]\n",
      "\n"
     ]
    }
   ],
   "source": [
    "# Predictions on training set\n",
    "print(\"Predictions on training set...\")\n",
    "gridSearch_logReg_train_pred = gridsearch_logReg.predict(X_train)\n",
    "print(\"...Done.\")\n",
    "print(gridSearch_logReg_train_pred)\n",
    "print()\n",
    "\n",
    "# Predictions on test set\n",
    "print(\"Predictions on test set...\")\n",
    "gridSearch_logReg_test_pred = gridsearch_logReg.predict(X_test)\n",
    "print(\"...Done.\")\n",
    "print(gridSearch_logReg_test_pred)"
   ]
  },
  {
   "cell_type": "code",
   "execution_count": 22,
   "metadata": {},
   "outputs": [
    {
     "name": "stdout",
     "output_type": "stream",
     "text": [
      "f1-score on training set :  0.7187986305633364\n",
      "f1-score on test set :  0.7100371747211897\n",
      "\n"
     ]
    }
   ],
   "source": [
    "print(\"f1-score on training set : \", f1_score(Y_train, gridSearch_logReg_train_pred))\n",
    "print(\"f1-score on test set : \", f1_score(Y_test, gridSearch_logReg_test_pred))"
   ]
  },
  {
   "attachments": {},
   "cell_type": "markdown",
   "metadata": {},
   "source": [
    "# Grid Search with Decision Tree"
   ]
  },
  {
   "cell_type": "code",
   "execution_count": 23,
   "metadata": {},
   "outputs": [
    {
     "name": "stdout",
     "output_type": "stream",
     "text": [
      "...Done.\n",
      "Best hyperparameters :  {'max_depth': 10, 'min_samples_leaf': 5, 'min_samples_split': 2}\n"
     ]
    }
   ],
   "source": [
    "params = {\n",
    "    'max_depth': [4, 6, 8, 10],\n",
    "    'min_samples_leaf': [1, 2, 5],\n",
    "    'min_samples_split': [2, 4, 8]\n",
    "}\n",
    "gridsearch_decisionTree = GridSearchCV(decisionTree, param_grid = params, cv = 5) \n",
    "gridsearch_decisionTree.fit(X_train, Y_train)\n",
    "print(\"...Done.\")\n",
    "print(\"Best hyperparameters : \", gridsearch_decisionTree.best_params_)"
   ]
  },
  {
   "cell_type": "code",
   "execution_count": 24,
   "metadata": {},
   "outputs": [
    {
     "name": "stdout",
     "output_type": "stream",
     "text": [
      "Predictions on training set...\n",
      "...Done.\n",
      "[0 0 0 ... 0 0 0]\n",
      "\n",
      "Predictions on test set...\n",
      "...Done.\n",
      "[0 0 0 ... 0 0 0]\n",
      "\n"
     ]
    }
   ],
   "source": [
    "# Predictions on training set\n",
    "print(\"Predictions on training set...\")\n",
    "gridSearch_decTree_train_pred = gridsearch_decisionTree.predict(X_train)\n",
    "print(\"...Done.\")\n",
    "print(gridSearch_decTree_train_pred)\n",
    "print()\n",
    "\n",
    "# Predictions on test set\n",
    "print(\"Predictions on test set...\")\n",
    "gridSearch_decTree_test_pred = gridsearch_decisionTree.predict(X_test)\n",
    "print(\"...Done.\")\n",
    "print(gridSearch_decTree_test_pred)"
   ]
  },
  {
   "cell_type": "code",
   "execution_count": 25,
   "metadata": {},
   "outputs": [
    {
     "name": "stdout",
     "output_type": "stream",
     "text": [
      "f1-score on training set :  0.7195898710579463\n",
      "f1-score on test set :  0.7097372488408037\n",
      "\n"
     ]
    }
   ],
   "source": [
    "print(\"f1-score on training set : \", f1_score(Y_train, gridSearch_decTree_train_pred))\n",
    "print(\"f1-score on test set : \", f1_score(Y_test, gridSearch_decTree_test_pred))"
   ]
  },
  {
   "attachments": {},
   "cell_type": "markdown",
   "metadata": {},
   "source": [
    "# Grid Search with Random Forest"
   ]
  },
  {
   "cell_type": "code",
   "execution_count": 26,
   "metadata": {},
   "outputs": [
    {
     "name": "stdout",
     "output_type": "stream",
     "text": [
      "...Done.\n",
      "Best hyperparameters :  {'max_depth': 6, 'min_samples_leaf': 1, 'min_samples_split': 2, 'n_estimators': 20}\n",
      "Best validation accuracy :  0.9841168040223645\n"
     ]
    }
   ],
   "source": [
    "# Grid of values to be tested\n",
    "params = {\n",
    "    'max_depth': [2, 4, 6, 8, 10],\n",
    "    'min_samples_leaf': [1, 2, 5],\n",
    "    'min_samples_split': [2, 4, 8],\n",
    "    'n_estimators': [10, 20, 40, 60, 80, 100]\n",
    "}\n",
    "gridsearch_randomForest = GridSearchCV(randomForest, param_grid = params, cv = 3)\n",
    "gridsearch_randomForest.fit(X_train, Y_train)\n",
    "print(\"...Done.\")\n",
    "print(\"Best hyperparameters : \", gridsearch_randomForest.best_params_)\n",
    "print(\"Best validation accuracy : \", gridsearch_randomForest.best_score_)"
   ]
  },
  {
   "cell_type": "code",
   "execution_count": 27,
   "metadata": {},
   "outputs": [
    {
     "name": "stdout",
     "output_type": "stream",
     "text": [
      "Predictions on training set...\n",
      "...Done.\n",
      "[0 0 0 ... 0 0 0]\n",
      "\n",
      "Predictions on test set...\n",
      "...Done.\n",
      "[0 0 0 ... 0 0 0]\n",
      "\n"
     ]
    }
   ],
   "source": [
    "# Predictions on training set\n",
    "print(\"Predictions on training set...\")\n",
    "gridSearch_randForest_train_pred = gridsearch_randomForest.predict(X_train)\n",
    "print(\"...Done.\")\n",
    "print(gridSearch_randForest_train_pred)\n",
    "print()\n",
    "\n",
    "# Predictions on test set\n",
    "print(\"Predictions on test set...\")\n",
    "gridSearch_randForest_test_pred = gridsearch_randomForest.predict(X_test)\n",
    "print(\"...Done.\")\n",
    "print(gridSearch_randForest_test_pred)"
   ]
  },
  {
   "cell_type": "code",
   "execution_count": 28,
   "metadata": {},
   "outputs": [
    {
     "name": "stdout",
     "output_type": "stream",
     "text": [
      "f1-score on training set :  0.7163009404388715\n",
      "f1-score on test set :  0.7092552196946089\n",
      "\n"
     ]
    }
   ],
   "source": [
    "print(\"f1-score on training set : \", f1_score(Y_train, gridSearch_randForest_train_pred))\n",
    "print(\"f1-score on test set : \", f1_score(Y_test, gridSearch_randForest_test_pred))"
   ]
  },
  {
   "attachments": {},
   "cell_type": "markdown",
   "metadata": {},
   "source": [
    "# SVM Model"
   ]
  },
  {
   "attachments": {},
   "cell_type": "markdown",
   "metadata": {},
   "source": [
    "## Linear SVM"
   ]
  },
  {
   "cell_type": "code",
   "execution_count": 29,
   "metadata": {},
   "outputs": [],
   "source": [
    "from sklearn.svm import SVC\n",
    "from sklearn.metrics import ConfusionMatrixDisplay"
   ]
  },
  {
   "cell_type": "code",
   "execution_count": 30,
   "metadata": {},
   "outputs": [
    {
     "name": "stdout",
     "output_type": "stream",
     "text": [
      "Training linear SVM...\n",
      "...Done.\n"
     ]
    }
   ],
   "source": [
    "print('Training linear SVM...')\n",
    "svm_linear = SVC(kernel = 'linear')\n",
    "svm_linear.fit(X_train, Y_train)\n",
    "print(\"...Done.\")"
   ]
  },
  {
   "cell_type": "code",
   "execution_count": 31,
   "metadata": {},
   "outputs": [
    {
     "name": "stdout",
     "output_type": "stream",
     "text": [
      "Predictions on training set...\n",
      "...Done.\n",
      "[0 0 0 ... 0 0 0]\n",
      "\n",
      "Predictions on test set...\n",
      "...Done.\n",
      "[0 0 0 ... 0 0 0]\n",
      "\n"
     ]
    }
   ],
   "source": [
    "# Predictions on training set\n",
    "print(\"Predictions on training set...\")\n",
    "svm_linear_train_pred = svm_linear.predict(X_train)\n",
    "print(\"...Done.\")\n",
    "print(svm_linear_train_pred)\n",
    "print()\n",
    "\n",
    "# Predictions on test set\n",
    "print(\"Predictions on test set...\")\n",
    "svm_linear_test_pred = svm_linear.predict(X_test)\n",
    "print(\"...Done.\")\n",
    "print(svm_linear_test_pred)"
   ]
  },
  {
   "cell_type": "code",
   "execution_count": 32,
   "metadata": {},
   "outputs": [
    {
     "name": "stdout",
     "output_type": "stream",
     "text": [
      "f1-score on training set :  0.710078013055246\n",
      "f1-score on test set :  0.7053994316387748\n",
      "\n"
     ]
    }
   ],
   "source": [
    "print(\"f1-score on training set : \", f1_score(Y_train, svm_linear_train_pred))\n",
    "print(\"f1-score on test set : \", f1_score(Y_test, svm_linear_test_pred))"
   ]
  },
  {
   "cell_type": "code",
   "execution_count": 33,
   "metadata": {},
   "outputs": [
    {
     "data": {
      "image/png": "[encoded data removed]",
      "text/plain": [
       "<Figure size 640x480 with 2 Axes>"
      ]
     },
     "metadata": {},
     "output_type": "display_data"
    },
    {
     "data": {
      "image/png": "[encoded data removed]",
      "text/plain": [
       "<Figure size 640x480 with 2 Axes>"
      ]
     },
     "metadata": {},
     "output_type": "display_data"
    }
   ],
   "source": [
    "# Visualize confusion matrices\n",
    "_ , ax = plt.subplots() \n",
    "ax.set(title=\"Confusion Matrix on Train set for SVM Linear\") \n",
    "ConfusionMatrixDisplay.from_estimator(svm_linear, X_train, Y_train, ax=ax) \n",
    "plt.show()\n",
    "\n",
    "_ , ax = plt.subplots() \n",
    "ax.set(title=\"Confusion Matrix on Test set for SVM Linear\") \n",
    "ConfusionMatrixDisplay.from_estimator(svm_linear, X_test, Y_test, ax=ax) \n",
    "plt.show()"
   ]
  },
  {
   "attachments": {},
   "cell_type": "markdown",
   "metadata": {},
   "source": [
    "## Non Linear SVM with Grid Search"
   ]
  },
  {
   "cell_type": "code",
   "execution_count": 34,
   "metadata": {},
   "outputs": [
    {
     "name": "stdout",
     "output_type": "stream",
     "text": [
      "Training no linear SVM...\n",
      "...Done.\n"
     ]
    }
   ],
   "source": [
    "print('Training no linear SVM...')\n",
    "svm_non_linear = SVC(kernel = 'rbf')\n",
    "svm_non_linear.fit(X_train, Y_train)\n",
    "print(\"...Done.\")"
   ]
  },
  {
   "cell_type": "code",
   "execution_count": 35,
   "metadata": {},
   "outputs": [
    {
     "name": "stdout",
     "output_type": "stream",
     "text": [
      "...Done.\n",
      "Best hyperparameters :  {'C': 1.0, 'gamma': 1.0}\n"
     ]
    }
   ],
   "source": [
    "# Grid of values to be tested\n",
    "params = {\n",
    "    'C': [0.1, 1.0, 10.0],\n",
    "    'gamma': [0.1, 1.0, 10.0]\n",
    "}\n",
    "gridsearch_non_linear_svm = GridSearchCV(svm_non_linear, param_grid = params, cv = 5) \n",
    "gridsearch_non_linear_svm.fit(X_train, Y_train)\n",
    "print(\"...Done.\")\n",
    "print(\"Best hyperparameters : \", gridsearch_non_linear_svm.best_params_)"
   ]
  },
  {
   "cell_type": "code",
   "execution_count": 36,
   "metadata": {},
   "outputs": [
    {
     "name": "stdout",
     "output_type": "stream",
     "text": [
      "Predictions on training set...\n",
      "...Done.\n",
      "[0 0 0 ... 0 0 0]\n",
      "\n",
      "Predictions on test set...\n",
      "...Done.\n",
      "[0 0 0 ... 0 0 0]\n",
      "\n"
     ]
    }
   ],
   "source": [
    "# Predictions on training set\n",
    "print(\"Predictions on training set...\")\n",
    "gridSearch_svm_non_linear_train_pred = gridsearch_non_linear_svm.predict(X_train)\n",
    "print(\"...Done.\")\n",
    "print(gridSearch_svm_non_linear_train_pred)\n",
    "print()\n",
    "\n",
    "# Predictions on test set\n",
    "print(\"Predictions on test set...\")\n",
    "gridSearch_svm_non_linear_test_pred = gridsearch_non_linear_svm.predict(X_test)\n",
    "print(\"...Done.\")\n",
    "print(gridSearch_svm_non_linear_test_pred)"
   ]
  },
  {
   "cell_type": "code",
   "execution_count": 37,
   "metadata": {},
   "outputs": [
    {
     "name": "stdout",
     "output_type": "stream",
     "text": [
      "f1-score on training set :  0.7197827773467804\n",
      "f1-score on test set :  0.7088607594936709\n",
      "\n"
     ]
    }
   ],
   "source": [
    "print(\"f1-score on training set : \", f1_score(Y_train, gridSearch_svm_non_linear_train_pred))\n",
    "print(\"f1-score on test set : \", f1_score(Y_test, gridSearch_svm_non_linear_test_pred))"
   ]
  },
  {
   "cell_type": "code",
   "execution_count": 38,
   "metadata": {},
   "outputs": [
    {
     "data": {
      "image/png": "[encoded data removed]",
      "text/plain": [
       "<Figure size 640x480 with 2 Axes>"
      ]
     },
     "metadata": {},
     "output_type": "display_data"
    },
    {
     "data": {
      "image/png": "[encoded data removed]",
      "text/plain": [
       "<Figure size 640x480 with 2 Axes>"
      ]
     },
     "metadata": {},
     "output_type": "display_data"
    }
   ],
   "source": [
    "# Visualize confusion matrices\n",
    "_ , ax = plt.subplots() \n",
    "ax.set(title=\"Confusion Matrix on Train set for SVM Linear\") \n",
    "ConfusionMatrixDisplay.from_estimator(gridsearch_non_linear_svm, X_train, Y_train, ax=ax) \n",
    "plt.show()\n",
    "\n",
    "_ , ax = plt.subplots() \n",
    "ax.set(title=\"Confusion Matrix on Test set for SVM Linear\") \n",
    "ConfusionMatrixDisplay.from_estimator(gridsearch_non_linear_svm, X_test, Y_test, ax=ax) \n",
    "plt.show()"
   ]
  },
  {
   "attachments": {},
   "cell_type": "markdown",
   "metadata": {},
   "source": [
    "# Bagging with Logistic Regression"
   ]
  },
  {
   "cell_type": "code",
   "execution_count": 49,
   "metadata": {},
   "outputs": [
    {
     "name": "stderr",
     "output_type": "stream",
     "text": [
      "c:\\Users\\morgane.berrod\\Anaconda3\\lib\\site-packages\\sklearn\\linear_model\\_logistic.py:814: ConvergenceWarning:\n",
      "\n",
      "lbfgs failed to converge (status=1):\n",
      "STOP: TOTAL NO. of ITERATIONS REACHED LIMIT.\n",
      "\n",
      "Increase the number of iterations (max_iter) or scale the data as shown in:\n",
      "    https://scikit-learn.org/stable/modules/preprocessing.html\n",
      "Please also refer to the documentation for alternative solver options:\n",
      "    https://scikit-learn.org/stable/modules/linear_model.html#logistic-regression\n",
      "\n",
      "c:\\Users\\morgane.berrod\\Anaconda3\\lib\\site-packages\\sklearn\\linear_model\\_logistic.py:814: ConvergenceWarning:\n",
      "\n",
      "lbfgs failed to converge (status=1):\n",
      "STOP: TOTAL NO. of ITERATIONS REACHED LIMIT.\n",
      "\n",
      "Increase the number of iterations (max_iter) or scale the data as shown in:\n",
      "    https://scikit-learn.org/stable/modules/preprocessing.html\n",
      "Please also refer to the documentation for alternative solver options:\n",
      "    https://scikit-learn.org/stable/modules/linear_model.html#logistic-regression\n",
      "\n",
      "c:\\Users\\morgane.berrod\\Anaconda3\\lib\\site-packages\\sklearn\\linear_model\\_logistic.py:814: ConvergenceWarning:\n",
      "\n",
      "lbfgs failed to converge (status=1):\n",
      "STOP: TOTAL NO. of ITERATIONS REACHED LIMIT.\n",
      "\n",
      "Increase the number of iterations (max_iter) or scale the data as shown in:\n",
      "    https://scikit-learn.org/stable/modules/preprocessing.html\n",
      "Please also refer to the documentation for alternative solver options:\n",
      "    https://scikit-learn.org/stable/modules/linear_model.html#logistic-regression\n",
      "\n"
     ]
    },
    {
     "data": {
      "text/plain": [
       "BaggingClassifier(base_estimator=LogisticRegression(C=0.3906939937054613),\n",
       "                  n_estimators=20)"
      ]
     },
     "execution_count": 49,
     "metadata": {},
     "output_type": "execute_result"
    }
   ],
   "source": [
    "from sklearn.ensemble import BaggingClassifier, AdaBoostClassifier, GradientBoostingClassifier\n",
    "\n",
    "# We take the best hyperparameters we found earlier while doing the grid search on the logisitic regression\n",
    "logReg_opt = LogisticRegression(C= 0.3906939937054613, penalty= 'l2')\n",
    "bagging_logReg = BaggingClassifier(base_estimator=logReg_opt, n_estimators = 20)\n",
    "bagging_logReg.fit(X_train, Y_train)"
   ]
  },
  {
   "cell_type": "code",
   "execution_count": 50,
   "metadata": {},
   "outputs": [
    {
     "name": "stdout",
     "output_type": "stream",
     "text": [
      "Predictions on training set...\n",
      "...Done.\n",
      "[0 0 0 ... 0 0 0]\n",
      "\n",
      "Predictions on test set...\n",
      "...Done.\n",
      "[0 0 0 ... 0 0 0]\n",
      "\n"
     ]
    }
   ],
   "source": [
    "# Predictions on training set\n",
    "print(\"Predictions on training set...\")\n",
    "bagging_logReg_train_pred = bagging_logReg.predict(X_train)\n",
    "print(\"...Done.\")\n",
    "print(bagging_logReg_train_pred)\n",
    "print()\n",
    "\n",
    "# Predictions on test set\n",
    "print(\"Predictions on test set...\")\n",
    "bagging_logReg_test_pred = bagging_logReg.predict(X_test)\n",
    "print(\"...Done.\")\n",
    "print(bagging_logReg_test_pred)"
   ]
  },
  {
   "cell_type": "code",
   "execution_count": 51,
   "metadata": {},
   "outputs": [
    {
     "name": "stdout",
     "output_type": "stream",
     "text": [
      "f1-score on training set :  0.7187986305633364\n",
      "f1-score on test set :  0.7100371747211897\n"
     ]
    }
   ],
   "source": [
    "print(\"f1-score on training set : \", f1_score(Y_train, bagging_logReg_train_pred))\n",
    "print(\"f1-score on test set : \", f1_score(Y_test, bagging_logReg_test_pred))"
   ]
  },
  {
   "attachments": {},
   "cell_type": "markdown",
   "metadata": {},
   "source": [
    "# ADABoost with Logistic Regression"
   ]
  },
  {
   "cell_type": "code",
   "execution_count": 52,
   "metadata": {},
   "outputs": [
    {
     "data": {
      "text/plain": [
       "AdaBoostClassifier(base_estimator=LogisticRegression(C=0.3906939937054613))"
      ]
     },
     "execution_count": 52,
     "metadata": {},
     "output_type": "execute_result"
    }
   ],
   "source": [
    "ada_logReg = AdaBoostClassifier(logReg_opt)\n",
    "ada_logReg.fit(X_train, Y_train)\n",
    "ada_logReg.fit(X_train, Y_train)"
   ]
  },
  {
   "cell_type": "code",
   "execution_count": 53,
   "metadata": {},
   "outputs": [
    {
     "name": "stdout",
     "output_type": "stream",
     "text": [
      "Predictions on training set...\n",
      "...Done.\n",
      "[0 0 0 ... 0 0 0]\n",
      "\n",
      "Predictions on test set...\n",
      "...Done.\n",
      "[0 0 0 ... 0 0 0]\n",
      "\n"
     ]
    }
   ],
   "source": [
    "# Predictions on training set\n",
    "print(\"Predictions on training set...\")\n",
    "ada_logReg_train_pred = ada_logReg.predict(X_train)\n",
    "print(\"...Done.\")\n",
    "print(ada_logReg_train_pred)\n",
    "print()\n",
    "\n",
    "# Predictions on test set\n",
    "print(\"Predictions on test set...\")\n",
    "ada_logReg_test_pred = ada_logReg.predict(X_test)\n",
    "print(\"...Done.\")\n",
    "print(ada_logReg_test_pred)"
   ]
  },
  {
   "cell_type": "code",
   "execution_count": 54,
   "metadata": {},
   "outputs": [
    {
     "name": "stdout",
     "output_type": "stream",
     "text": [
      "f1-score on training set :  0.6970509383378016\n",
      "f1-score on test set :  0.6927654243658002\n"
     ]
    }
   ],
   "source": [
    "print(\"f1-score on training set : \", f1_score(Y_train, ada_logReg_train_pred))\n",
    "print(\"f1-score on test set : \", f1_score(Y_test, ada_logReg_test_pred))"
   ]
  },
  {
   "attachments": {},
   "cell_type": "markdown",
   "metadata": {},
   "source": [
    "# ADABoost with Decision Tree"
   ]
  },
  {
   "cell_type": "code",
   "execution_count": 59,
   "metadata": {},
   "outputs": [
    {
     "data": {
      "text/plain": [
       "AdaBoostClassifier(base_estimator=DecisionTreeClassifier(max_depth=10,\n",
       "                                                         min_samples_leaf=5))"
      ]
     },
     "execution_count": 59,
     "metadata": {},
     "output_type": "execute_result"
    }
   ],
   "source": [
    "# We take the best hyperparameters we found earlier while doing the grid search on the decsion tree \n",
    "decTree_opt = DecisionTreeClassifier(max_depth=10, min_samples_leaf= 5, min_samples_split= 2)\n",
    "ada_decTree = AdaBoostClassifier(decTree_opt)\n",
    "ada_decTree.fit(X_train, Y_train)"
   ]
  },
  {
   "cell_type": "code",
   "execution_count": 60,
   "metadata": {},
   "outputs": [
    {
     "name": "stdout",
     "output_type": "stream",
     "text": [
      "Predictions on training set...\n",
      "...Done.\n",
      "[0 0 0 ... 0 0 0]\n",
      "\n",
      "Predictions on test set...\n",
      "...Done.\n",
      "[0 0 0 ... 0 0 0]\n"
     ]
    }
   ],
   "source": [
    "# Predictions on training set\n",
    "print(\"Predictions on training set...\")\n",
    "ada_decTree_train_pred = ada_decTree.predict(X_train)\n",
    "print(\"...Done.\")\n",
    "print(ada_decTree_train_pred)\n",
    "print()\n",
    "\n",
    "# Predictions on test set\n",
    "print(\"Predictions on test set...\")\n",
    "ada_decTree_test_pred = ada_decTree.predict(X_test)\n",
    "print(\"...Done.\")\n",
    "print(ada_decTree_test_pred)"
   ]
  },
  {
   "cell_type": "code",
   "execution_count": 61,
   "metadata": {},
   "outputs": [
    {
     "name": "stdout",
     "output_type": "stream",
     "text": [
      "f1-score on training set :  0.7197328570319173\n",
      "f1-score on test set :  0.7099165894346617\n"
     ]
    }
   ],
   "source": [
    "print(\"f1-score on training set : \", f1_score(Y_train, ada_decTree_train_pred))\n",
    "print(\"f1-score on test set : \", f1_score(Y_test, ada_decTree_test_pred))"
   ]
  },
  {
   "attachments": {},
   "cell_type": "markdown",
   "metadata": {},
   "source": [
    "# Gradient Boosting "
   ]
  },
  {
   "cell_type": "code",
   "execution_count": 62,
   "metadata": {},
   "outputs": [
    {
     "data": {
      "text/plain": [
       "GradientBoostingClassifier(max_depth=10, min_samples_leaf=5)"
      ]
     },
     "execution_count": 62,
     "metadata": {},
     "output_type": "execute_result"
    }
   ],
   "source": [
    "# Gradient Boosting are only for decision trees, so we take the best hyperparameters we found earlier for the decsion tree \n",
    "gradBoost = GradientBoostingClassifier(max_depth=10, min_samples_leaf= 5, min_samples_split= 2)\n",
    "gradBoost.fit(X_train, Y_train)"
   ]
  },
  {
   "cell_type": "code",
   "execution_count": 63,
   "metadata": {},
   "outputs": [
    {
     "name": "stdout",
     "output_type": "stream",
     "text": [
      "Predictions on training set...\n",
      "...Done.\n",
      "[0 0 0 ... 0 0 0]\n",
      "\n",
      "Predictions on test set...\n",
      "...Done.\n",
      "[0 0 0 ... 0 0 0]\n"
     ]
    }
   ],
   "source": [
    "# Predictions on training set\n",
    "print(\"Predictions on training set...\")\n",
    "gradBoost_train_pred = gradBoost.predict(X_train)\n",
    "print(\"...Done.\")\n",
    "print(gradBoost_train_pred)\n",
    "print()\n",
    "\n",
    "# Predictions on test set\n",
    "print(\"Predictions on test set...\")\n",
    "gradBoost_test_pred = gradBoost.predict(X_test)\n",
    "print(\"...Done.\")\n",
    "print(gradBoost_test_pred)"
   ]
  },
  {
   "cell_type": "code",
   "execution_count": 64,
   "metadata": {},
   "outputs": [
    {
     "name": "stdout",
     "output_type": "stream",
     "text": [
      "f1-score on training set :  0.7197328570319173\n",
      "f1-score on test set :  0.7099165894346617\n"
     ]
    }
   ],
   "source": [
    "print(\"f1-score on training set : \", f1_score(Y_train, gradBoost_train_pred))\n",
    "print(\"f1-score on test set : \", f1_score(Y_test, gradBoost_test_pred))"
   ]
  },
  {
   "attachments": {},
   "cell_type": "markdown",
   "metadata": {},
   "source": [
    "# XGBoost"
   ]
  },
  {
   "cell_type": "code",
   "execution_count": 65,
   "metadata": {},
   "outputs": [
    {
     "data": {
      "text/plain": [
       "GridSearchCV(cv=5,\n",
       "             estimator=XGBClassifier(base_score=None, booster=None,\n",
       "                                     callbacks=None, colsample_bylevel=None,\n",
       "                                     colsample_bynode=None,\n",
       "                                     colsample_bytree=None,\n",
       "                                     early_stopping_rounds=None,\n",
       "                                     enable_categorical=False, eval_metric=None,\n",
       "                                     feature_types=None, gamma=None,\n",
       "                                     gpu_id=None, grow_policy=None,\n",
       "                                     importance_type=None,\n",
       "                                     interaction_constraints=None,\n",
       "                                     learning_rate=None, max_bin=None,\n",
       "                                     max_cat_threshold=None,\n",
       "                                     max_cat_to_onehot=None,\n",
       "                                     max_delta_step=None, max_depth=None,\n",
       "                                     max_leaves=None, min_child_weight=None,\n",
       "                                     missing=nan, monotone_constraints=None,\n",
       "                                     n_estimators=100, n_jobs=None,\n",
       "                                     num_parallel_tree=None, predictor=None,\n",
       "                                     random_state=None, ...),\n",
       "             param_grid={'max_depth': [2, 4, 6], 'min_child_weight': [1, 2, 3],\n",
       "                         'n_estimators': [2, 4, 6, 8]})"
      ]
     },
     "execution_count": 65,
     "metadata": {},
     "output_type": "execute_result"
    }
   ],
   "source": [
    "from xgboost import XGBClassifier\n",
    "\n",
    "xgBoost = XGBClassifier()\n",
    "\n",
    "# Grid of values to be tested\n",
    "# We made a grid search because we add a new hyperparameter (min_child_weight) we do not compute before \n",
    "params = {\n",
    "    'max_depth': [2, 4, 6], \n",
    "    'min_child_weight': [1, 2, 3],\n",
    "    'n_estimators': [2, 4, 6, 8,] \n",
    "}\n",
    "\n",
    "xgBoost = GridSearchCV(xgBoost, param_grid = params, cv = 5)\n",
    "xgBoost.fit(X_train, Y_train)"
   ]
  },
  {
   "cell_type": "code",
   "execution_count": 66,
   "metadata": {},
   "outputs": [
    {
     "name": "stdout",
     "output_type": "stream",
     "text": [
      "Predictions on training set...\n",
      "...Done.\n",
      "[0 0 0 ... 0 0 0]\n",
      "\n",
      "Predictions on test set...\n",
      "...Done.\n",
      "[0 0 0 ... 0 0 0]\n"
     ]
    }
   ],
   "source": [
    "# Predictions on training set\n",
    "print(\"Predictions on training set...\")\n",
    "xgBoost_train_pred = xgBoost.predict(X_train)\n",
    "print(\"...Done.\")\n",
    "print(xgBoost_train_pred)\n",
    "print()\n",
    "\n",
    "# Predictions on test set\n",
    "print(\"Predictions on test set...\")\n",
    "xgBoost_test_pred = xgBoost.predict(X_test)\n",
    "print(\"...Done.\")\n",
    "print(xgBoost_test_pred)"
   ]
  },
  {
   "cell_type": "code",
   "execution_count": 67,
   "metadata": {},
   "outputs": [
    {
     "name": "stdout",
     "output_type": "stream",
     "text": [
      "f1-score on training set :  0.7181166198939818\n",
      "f1-score on test set :  0.7096374341493648\n"
     ]
    }
   ],
   "source": [
    "print(\"f1-score on training set : \", f1_score(Y_train, xgBoost_train_pred))\n",
    "print(\"f1-score on test set : \", f1_score(Y_test, xgBoost_test_pred))"
   ]
  },
  {
   "attachments": {},
   "cell_type": "markdown",
   "metadata": {},
   "source": [
    "# Train best classifier on all data and use it to make predictions on X_without_labels"
   ]
  },
  {
   "cell_type": "code",
   "execution_count": 47,
   "metadata": {},
   "outputs": [
    {
     "data": {
      "text/plain": [
       "RandomForestClassifier()"
      ]
     },
     "execution_count": 47,
     "metadata": {},
     "output_type": "execute_result"
    }
   ],
   "source": [
    "# Concatenate our train and test set to train your best classifier on all data with labels\n",
    "X = np.append(X_train,X_test,axis=0)\n",
    "Y = np.append(Y_train,Y_test)\n",
    "\n",
    "randomForest.fit(X,Y)"
   ]
  },
  {
   "cell_type": "code",
   "execution_count": 48,
   "metadata": {},
   "outputs": [
    {
     "name": "stdout",
     "output_type": "stream",
     "text": [
      "Prediction set (without labels) : (31620, 5)\n"
     ]
    },
    {
     "data": {
      "text/html": [
       "<div>\n",
       "<style scoped>\n",
       "    .dataframe tbody tr th:only-of-type {\n",
       "        vertical-align: middle;\n",
       "    }\n",
       "\n",
       "    .dataframe tbody tr th {\n",
       "        vertical-align: top;\n",
       "    }\n",
       "\n",
       "    .dataframe thead th {\n",
       "        text-align: right;\n",
       "    }\n",
       "</style>\n",
       "<table border=\"1\" class=\"dataframe\">\n",
       "  <thead>\n",
       "    <tr style=\"text-align: right;\">\n",
       "      <th></th>\n",
       "      <th>country</th>\n",
       "      <th>source</th>\n",
       "      <th>total_pages_visited</th>\n",
       "    </tr>\n",
       "  </thead>\n",
       "  <tbody>\n",
       "    <tr>\n",
       "      <th>0</th>\n",
       "      <td>UK</td>\n",
       "      <td>Seo</td>\n",
       "      <td>16</td>\n",
       "    </tr>\n",
       "    <tr>\n",
       "      <th>1</th>\n",
       "      <td>UK</td>\n",
       "      <td>Direct</td>\n",
       "      <td>5</td>\n",
       "    </tr>\n",
       "    <tr>\n",
       "      <th>2</th>\n",
       "      <td>China</td>\n",
       "      <td>Seo</td>\n",
       "      <td>1</td>\n",
       "    </tr>\n",
       "    <tr>\n",
       "      <th>3</th>\n",
       "      <td>US</td>\n",
       "      <td>Ads</td>\n",
       "      <td>6</td>\n",
       "    </tr>\n",
       "    <tr>\n",
       "      <th>4</th>\n",
       "      <td>China</td>\n",
       "      <td>Seo</td>\n",
       "      <td>3</td>\n",
       "    </tr>\n",
       "  </tbody>\n",
       "</table>\n",
       "</div>"
      ],
      "text/plain": [
       "  country  source  total_pages_visited\n",
       "0      UK     Seo                   16\n",
       "1      UK  Direct                    5\n",
       "2   China     Seo                    1\n",
       "3      US     Ads                    6\n",
       "4   China     Seo                    3"
      ]
     },
     "execution_count": 48,
     "metadata": {},
     "output_type": "execute_result"
    }
   ],
   "source": [
    "# Read data without labels\n",
    "df_without_labels = pd.read_csv('src/conversion_data_test.csv')\n",
    "print('Prediction set (without labels) :', df_without_labels.shape)\n",
    "\n",
    "# Warning : check consistency of features_list (must be the same than the features used by your best classifier\n",
    "features_list = ['country', 'source', 'total_pages_visited']\n",
    "X_without_labels = df_without_labels.loc[:, features_list]\n",
    "X_without_labels.head()"
   ]
  },
  {
   "cell_type": "code",
   "execution_count": 49,
   "metadata": {},
   "outputs": [
    {
     "name": "stdout",
     "output_type": "stream",
     "text": [
      "Encoding categorical features and standardizing numerical features...\n",
      "...Done\n",
      "[[ 3.32951812  0.          1.          0.          0.          1.        ]\n",
      " [ 0.0376251   0.          1.          0.          1.          0.        ]\n",
      " [-1.15942691  0.          0.          0.          0.          1.        ]\n",
      " [ 0.3368881   0.          0.          1.          0.          0.        ]\n",
      " [-0.56090091  0.          0.          0.          0.          1.        ]]\n"
     ]
    }
   ],
   "source": [
    "# Preprocessings\n",
    "print(\"Encoding categorical features and standardizing numerical features...\")\n",
    "X_without_labels = preprocessor.transform(X_without_labels)\n",
    "print(\"...Done\")\n",
    "print(X_without_labels[0:5,:])"
   ]
  },
  {
   "cell_type": "code",
   "execution_count": 50,
   "metadata": {},
   "outputs": [],
   "source": [
    "data = {\n",
    "    'converted': randomForest.predict(X_without_labels)\n",
    "}\n",
    "\n",
    "Y_predictions = pd.DataFrame(columns=['converted'],data=data)\n",
    "Y_predictions.to_csv('results/conversion_data_test_predictions_MORGANE.csv', index=False)"
   ]
  }
 ],
 "metadata": {
  "kernelspec": {
   "display_name": "base",
   "language": "python",
   "name": "python3"
  },
  "language_info": {
   "codemirror_mode": {
    "name": "ipython",
    "version": 3
   },
   "file_extension": ".py",
   "mimetype": "text/x-python",
   "name": "python",
   "nbconvert_exporter": "python",
   "pygments_lexer": "ipython3",
   "version": "3.9.13"
  },
  "orig_nbformat": 4,
  "vscode": {
   "interpreter": {
    "hash": "960fbe17adbe21549f4d64a7aae5d7232c198d559dbd400a4c7655912c6b8867"
   }
  }
 },
 "nbformat": 4,
 "nbformat_minor": 2
}
